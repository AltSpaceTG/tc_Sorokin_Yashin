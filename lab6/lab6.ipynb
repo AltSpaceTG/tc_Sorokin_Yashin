{
 "cells": [
  {
   "cell_type": "code",
   "outputs": [],
   "source": [
    "import numpy as np\n",
    "import random"
   ],
   "metadata": {
    "collapsed": false,
    "ExecuteTime": {
     "end_time": "2024-12-09T08:57:29.235874Z",
     "start_time": "2024-12-09T08:57:29.233022Z"
    }
   },
   "id": "31bfd79510ebb49e",
   "execution_count": 9
  },
  {
   "cell_type": "code",
   "outputs": [],
   "source": [
    "def calculate_remainder(message, generator):\n",
    "    remainder = list(message)\n",
    "    while len(remainder) >= len(generator):\n",
    "        for index in range(len(generator)):\n",
    "            remainder[-len(generator) + index] ^= generator[index]\n",
    "        while remainder and remainder[-1] == 0:\n",
    "            remainder.pop()\n",
    "    return np.array(remainder)\n",
    "\n",
    "def multiply_polynomials(poly1, poly2):\n",
    "    product = np.zeros(len(poly1) + len(poly2) - 1, dtype=int)\n",
    "    for idx, bit in enumerate(poly2):\n",
    "        if bit:\n",
    "            product[idx:idx + len(poly1)] = np.bitwise_xor(product[idx:idx + len(poly1)], poly1.astype(int))\n",
    "            \n",
    "    return product\n",
    "\n",
    "def introduce_and_correct_errors(original, generator_poly, num_errors):\n",
    "    transmitted = multiply_polynomials(original, generator_poly)\n",
    "    print(f\"Отправленное сообщение: {transmitted}\")\n",
    "    \n",
    "    received = transmitted.copy()\n",
    "    error_vector = np.zeros(received.size, dtype=int)\n",
    "    error_positions = random.sample(range(received.size), num_errors)\n",
    "    for pos in error_positions:\n",
    "        error_vector[pos] = 1\n",
    "    received = (received + error_vector) % 2\n",
    "    print(f\"Сообщение с ошибками: {received}\")\n",
    "    \n",
    "    remainder = calculate_remainder(received, generator_poly)\n",
    "    error_patterns = [[1]] if num_errors == 1 else [[1, 1, 1], [1, 0, 1], [1, 1], [1]]\n",
    "    \n",
    "    shift_count = 0\n",
    "    while not any(np.array_equal(remainder, pattern) for pattern in error_patterns):\n",
    "        shifted = multiply_polynomials(remainder, np.array([0, 1]))\n",
    "        remainder = calculate_remainder(shifted, generator_poly)\n",
    "        shift_count += 1\n",
    "    \n",
    "    correction = np.zeros(received.size, dtype=int)\n",
    "    correction[-shift_count - 1 if shift_count else 0] = 1\n",
    "    corrected = (received + multiply_polynomials(remainder, correction)[:received.size]) % 2\n",
    "    print(f\"Исправленное сообщение: {corrected}\\n\")"
   ],
   "metadata": {
    "collapsed": false,
    "ExecuteTime": {
     "end_time": "2024-12-09T08:57:29.244750Z",
     "start_time": "2024-12-09T08:57:29.238779Z"
    }
   },
   "id": "21eb9a4f53eeb875",
   "execution_count": 10
  },
  {
   "cell_type": "markdown",
   "source": [
    "6.1 Написать функции кодирования и декодирования для циклического кода (7,4) с порождающим многочленом 𝑔(𝑥) = 1 + 𝑥2 + 𝑥, исправляющего однократные ошибки и провести исследование этого кода для одно-, двух- и трёхкратных ошибок."
   ],
   "metadata": {
    "collapsed": false
   },
   "id": "7afb90dd6d8875f5"
  },
  {
   "cell_type": "code",
   "outputs": [
    {
     "name": "stdout",
     "output_type": "stream",
     "text": [
      "g = 1 + x^2 + x^3\n",
      "Исходное сообщение: [1 0 0 1]\n",
      "Порождающий полином: [1 0 1 1]\n",
      "\n",
      "Отправленное сообщение: [1 0 1 0 0 1 1]\n",
      "Сообщение с ошибками: [0 0 1 0 0 1 1]\n",
      "Исправленное сообщение: [1 0 1 0 0 1 1]\n",
      "\n",
      "Отправленное сообщение: [1 0 1 0 0 1 1]\n",
      "Сообщение с ошибками: [1 1 1 0 0 1 0]\n",
      "Исправленное сообщение: [1 1 1 0 0 0 0]\n",
      "\n",
      "Отправленное сообщение: [1 0 1 0 0 1 1]\n",
      "Сообщение с ошибками: [1 1 1 1 0 1 0]\n",
      "Исправленное сообщение: [0 1 1 1 0 1 0]\n"
     ]
    }
   ],
   "source": [
    "# Определение сообщений и порождающих полиномов\n",
    "messages = [\n",
    "    np.array([1, 0, 0, 1]),\n",
    "    np.array([1, 0, 0, 1, 0, 0, 0, 1, 1])\n",
    "]\n",
    "generators = [\n",
    "    np.array([1, 0, 1, 1]),\n",
    "    np.array([1, 0, 0, 1, 1, 1, 1])\n",
    "]\n",
    "\n",
    "\n",
    "\n",
    "poly_description = 'g = 1 + x^2 + x^3' \n",
    "print(f\"{poly_description}\")\n",
    "print(f\"Исходное сообщение: {messages[0]}\")\n",
    "print(f\"Порождающий полином: {generators[0]}\\n\")\n",
    "    \n",
    "max_errors = 3\n",
    "for error_count in range(1, max_errors + 1):\n",
    "    introduce_and_correct_errors(messages[0], generators[0], error_count)\n"
   ],
   "metadata": {
    "collapsed": false,
    "ExecuteTime": {
     "end_time": "2024-12-09T08:57:29.253003Z",
     "start_time": "2024-12-09T08:57:29.246341Z"
    }
   },
   "id": "cc6012ce5889f141",
   "execution_count": 11
  },
  {
   "cell_type": "markdown",
   "source": [
    "Написать функции кодирования и декодирования для циклического кода (15,9) с порождающим многочленом 𝑔(𝑥) = 1 + 𝑥3 + 𝑥4 + 𝑥5 + 𝑥6, исправляющего пакеты ошибок кратности 3 и провести исследование этого кода для пакетов ошибок длины 1, 2, 3 и 4. Обратите внимание, что пакет ошибок длины t не означает, что все разряды в пределах этого пакета изменятся (см. лекции)."
   ],
   "metadata": {
    "collapsed": false
   },
   "id": "bcba28757672aecf"
  },
  {
   "cell_type": "code",
   "outputs": [
    {
     "name": "stdout",
     "output_type": "stream",
     "text": [
      "g = 1 + x^3 + x^4 + x^5 + x^6\n",
      "Исходное сообщение: [1 0 0 1 0 0 0 1 1]\n",
      "Порождающий полином: [1 0 0 1 1 1 1]\n",
      "\n",
      "Отправленное сообщение: [1 0 0 0 1 1 0 0 0 1 1 0 0 0 1]\n",
      "Сообщение с ошибками: [1 0 0 0 1 0 0 0 0 1 1 0 0 0 1]\n",
      "Исправленное сообщение: [1 0 0 0 0 0 0 0 0 1 1 0 0 0 1]\n",
      "\n",
      "Отправленное сообщение: [1 0 0 0 1 1 0 0 0 1 1 0 0 0 1]\n",
      "Сообщение с ошибками: [1 0 0 0 1 1 0 1 0 1 0 0 0 0 1]\n",
      "Исправленное сообщение: [1 0 0 0 1 1 0 1 0 1 1 1 1 0 1]\n",
      "\n",
      "Отправленное сообщение: [1 0 0 0 1 1 0 0 0 1 1 0 0 0 1]\n",
      "Сообщение с ошибками: [1 1 0 0 0 1 0 0 0 1 0 0 0 0 1]\n",
      "Исправленное сообщение: [1 1 0 0 0 1 0 0 0 1 0 1 0 1 1]\n",
      "\n",
      "Отправленное сообщение: [1 0 0 0 1 1 0 0 0 1 1 0 0 0 1]\n",
      "Сообщение с ошибками: [1 0 0 0 1 0 1 1 0 1 1 0 0 0 0]\n",
      "Исправленное сообщение: [1 0 0 0 1 0 1 1 0 0 1 1 0 0 0]\n"
     ]
    }
   ],
   "source": [
    "poly_description = 'g = 1 + x^3 + x^4 + x^5 + x^6' \n",
    "print(f\"{poly_description}\")\n",
    "print(f\"Исходное сообщение: {messages[1]}\")\n",
    "print(f\"Порождающий полином: {generators[1]}\\n\")\n",
    "    \n",
    "max_errors = 4\n",
    "for error_count in range(1, max_errors + 1):\n",
    "    introduce_and_correct_errors(messages[1], generators[1], error_count)"
   ],
   "metadata": {
    "collapsed": false,
    "ExecuteTime": {
     "end_time": "2024-12-09T08:57:29.259095Z",
     "start_time": "2024-12-09T08:57:29.254327Z"
    }
   },
   "id": "3a7774b79dd2d4ed",
   "execution_count": 12
  }
 ],
 "metadata": {
  "kernelspec": {
   "display_name": "Python 3",
   "language": "python",
   "name": "python3"
  },
  "language_info": {
   "codemirror_mode": {
    "name": "ipython",
    "version": 2
   },
   "file_extension": ".py",
   "mimetype": "text/x-python",
   "name": "python",
   "nbconvert_exporter": "python",
   "pygments_lexer": "ipython2",
   "version": "2.7.6"
  }
 },
 "nbformat": 4,
 "nbformat_minor": 5
}
