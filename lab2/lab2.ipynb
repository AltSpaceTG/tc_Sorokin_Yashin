{
 "cells": [
  {
   "cell_type": "code",
   "execution_count": 1,
   "outputs": [],
   "source": [
    "import  numpy as np"
   ],
   "metadata": {
    "collapsed": false,
    "ExecuteTime": {
     "start_time": "2024-10-09T14:31:04.661096Z",
     "end_time": "2024-10-09T14:31:04.738000Z"
    }
   }
  },
  {
   "cell_type": "markdown",
   "source": [
    "# Часть 1"
   ],
   "metadata": {
    "collapsed": false
   }
  },
  {
   "cell_type": "markdown",
   "source": [
    "## 2.1 Сформировать порождающую матрицу линейного кода (7, 4, 3)"
   ],
   "metadata": {
    "collapsed": false
   }
  },
  {
   "cell_type": "code",
   "execution_count": 5,
   "outputs": [
    {
     "name": "stdout",
     "output_type": "stream",
     "text": [
      "порождающая матрица линейного кода (7, 4, 3):\n",
      "[[1 0 0 0 1 1 0]\n",
      " [0 1 0 0 1 0 1]\n",
      " [0 0 1 0 0 1 1]\n",
      " [0 0 0 1 1 1 1]]\n"
     ]
    }
   ],
   "source": [
    "n, k, d = 7, 4, 3\n",
    "I_k = np.eye(k, dtype=int)\n",
    "X = np.array([\n",
    "        [1, 1, 0],\n",
    "        [1, 0, 1],\n",
    "        [0, 1, 1],\n",
    "        [1, 1, 1]\n",
    "    ])\n",
    "G = np.hstack((I_k,X))\n",
    "print(f'порождающая матрица линейного кода (7, 4, 3):\\n{G}')"
   ],
   "metadata": {
    "collapsed": false,
    "ExecuteTime": {
     "start_time": "2024-10-09T14:34:25.513064Z",
     "end_time": "2024-10-09T14:34:25.513648Z"
    }
   }
  },
  {
   "cell_type": "markdown",
   "source": [
    "## 2.2 Сформировать проверочную матрицу на основе порождающей"
   ],
   "metadata": {
    "collapsed": false
   }
  },
  {
   "cell_type": "code",
   "execution_count": 14,
   "metadata": {
    "collapsed": true,
    "ExecuteTime": {
     "start_time": "2024-10-09T14:56:16.961525Z",
     "end_time": "2024-10-09T14:56:16.977924Z"
    }
   },
   "outputs": [
    {
     "name": "stdout",
     "output_type": "stream",
     "text": [
      "Проверочная матрица H:\n",
      "[[1 1 0]\n",
      " [1 0 1]\n",
      " [0 1 1]\n",
      " [1 1 1]\n",
      " [1 0 0]\n",
      " [0 1 0]\n",
      " [0 0 1]]\n",
      "(7, 3)\n"
     ]
    }
   ],
   "source": [
    "I_n_k = np.eye(n - k, dtype=int)\n",
    "\n",
    "H = np.vstack((X, I_n_k))\n",
    "print(f'Проверочная матрица H:\\n{H}')"
   ]
  },
  {
   "cell_type": "markdown",
   "source": [
    "## 2.3 Сформировать таблицу синдромов для всех однократных ошибок"
   ],
   "metadata": {
    "collapsed": false
   }
  },
  {
   "cell_type": "code",
   "execution_count": 10,
   "outputs": [
    {
     "name": "stdout",
     "output_type": "stream",
     "text": [
      "Syndrome\tError vec\n",
      "(1, 1, 0)\t(1, 0, 0, 0, 0, 0, 0)\n",
      "(1, 0, 1)\t(0, 1, 0, 0, 0, 0, 0)\n",
      "(0, 1, 1)\t(0, 0, 1, 0, 0, 0, 0)\n",
      "(1, 1, 1)\t(0, 0, 0, 1, 0, 0, 0)\n",
      "(1, 0, 0)\t(0, 0, 0, 0, 1, 0, 0)\n",
      "(0, 1, 0)\t(0, 0, 0, 0, 0, 1, 0)\n",
      "(0, 0, 1)\t(0, 0, 0, 0, 0, 0, 1)\n"
     ]
    }
   ],
   "source": [
    "def calculate_syndrome(E, H):\n",
    "    \"\"\"\n",
    "    Вычисляет синдром для данного вектора ошибки и матрицы H.\n",
    "    \"\"\"\n",
    "    return tuple((E @ H) % 2)\n",
    "\n",
    "def build_syndrome_table(H):\n",
    "    \"\"\"\n",
    "    Строит таблицу синдромов для матрицы H.\n",
    "    \"\"\"\n",
    "    n = H.shape[0]\n",
    "    syndromes = {}\n",
    "    for i in range(n):\n",
    "        E = np.zeros(n, dtype=int)\n",
    "        E[i] = 1\n",
    "        S = calculate_syndrome(E, H)\n",
    "        syndromes[S] = tuple(E)\n",
    "    return syndromes\n",
    "s_t = build_syndrome_table(H)\n",
    "print(\"Syndrome\\tError vec\")\n",
    "for syndrome in s_t:\n",
    "    print(f\"{syndrome}\\t{s_t[syndrome]}\")"
   ],
   "metadata": {
    "collapsed": false,
    "ExecuteTime": {
     "start_time": "2024-10-09T14:45:38.414422Z",
     "end_time": "2024-10-09T14:45:38.416931Z"
    }
   }
  },
  {
   "cell_type": "markdown",
   "source": [
    "## 2.4 Сформировать кодовое слово длины n из слова длины k. Внести однократную ошибку в сформированное слово. Вычислить синдром, исправить ошибку с использованием таблицы синдромов. Убедиться в правильности полученного слова\n"
   ],
   "metadata": {
    "collapsed": false
   }
  },
  {
   "cell_type": "code",
   "execution_count": 17,
   "outputs": [
    {
     "name": "stdout",
     "output_type": "stream",
     "text": [
      "Оригинальное сообщение:\n",
      " [0 1 0 0]\n",
      "\n",
      "Кодированное сообщение:\n",
      " [0 1 0 0 1 0 1]\n",
      "\n",
      "Сообщение с ошибкой в позиции 4:\n",
      " [0 1 0 0 0 0 1]\n",
      "\n",
      "Исправленное сообщение:\n",
      " [0 1 0 0 1 0 1]\n",
      "\n",
      "Обнаруженная ошибка:\n",
      " [0 0 0 0 1 0 0]\n"
     ]
    }
   ],
   "source": [
    "\n",
    "def encode_msg(generator_matrix, msg):\n",
    "    \"\"\"\n",
    "    Кодирует сообщение с использованием генераторной матрицы.\n",
    "    \"\"\"\n",
    "    return np.dot(msg, generator_matrix) % 2\n",
    "\n",
    "def add_noise(encoded_word, error_positions):\n",
    "    \"\"\"Вносит ошибки в кодовое слово по указанным позициям.\"\"\"\n",
    "    noisy_word = encoded_word.copy()\n",
    "    for pos in error_positions:\n",
    "        noisy_word[pos] ^= 1  # Инвертируем бит\n",
    "    return noisy_word\n",
    "\n",
    "def correct_errors(parity_check_matrix, received_word, syndromes):\n",
    "    \"\"\"Исправляет ошибки в принятом кодовом слове с помощью таблицы синдромов.\"\"\"\n",
    "    syndrome = tuple(np.dot(parity_check_matrix.T, received_word) % 2)\n",
    "    if syndrome in syndromes:\n",
    "        error_pattern = np.array(syndromes[syndrome], dtype=int)\n",
    "        fixed_word = (received_word + error_pattern) % 2\n",
    "        return fixed_word, error_pattern\n",
    "    return received_word, None\n",
    "\n",
    "# Пример использования\n",
    "original_msg = np.random.randint(0, 2, size=k)\n",
    "print(\"Оригинальное сообщение:\\n\", original_msg)\n",
    "\n",
    "# Кодирование сообщения\n",
    "encoded_word = encode_msg(G, original_msg)\n",
    "print(\"\\nКодированное сообщение:\\n\", encoded_word)\n",
    "\n",
    "# Внесение ошибки\n",
    "pos = np.random.randint(len(encoded_word))\n",
    "corrupted_word = add_noise(encoded_word, [pos])\n",
    "print(f\"\\nСообщение с ошибкой в позиции {pos}:\\n\", corrupted_word)\n",
    "\n",
    "# Исправление ошибки\n",
    "corrected_word, detected_error = correct_errors(H, corrupted_word, s_t)\n",
    "print(\"\\nИсправленное сообщение:\\n\", corrected_word)\n",
    "\n",
    "if detected_error is not None:\n",
    "    print(\"\\nОбнаруженная ошибка:\\n\", detected_error)\n",
    "else:\n",
    "    print(\"\\nОшибки не обнаружено.\")"
   ],
   "metadata": {
    "collapsed": false,
    "ExecuteTime": {
     "start_time": "2024-10-09T14:59:21.702426Z",
     "end_time": "2024-10-09T14:59:21.711789Z"
    }
   }
  },
  {
   "cell_type": "code",
   "execution_count": null,
   "outputs": [],
   "source": [],
   "metadata": {
    "collapsed": false
   }
  }
 ],
 "metadata": {
  "kernelspec": {
   "display_name": "Python 3",
   "language": "python",
   "name": "python3"
  },
  "language_info": {
   "codemirror_mode": {
    "name": "ipython",
    "version": 2
   },
   "file_extension": ".py",
   "mimetype": "text/x-python",
   "name": "python",
   "nbconvert_exporter": "python",
   "pygments_lexer": "ipython2",
   "version": "2.7.6"
  }
 },
 "nbformat": 4,
 "nbformat_minor": 0
}
