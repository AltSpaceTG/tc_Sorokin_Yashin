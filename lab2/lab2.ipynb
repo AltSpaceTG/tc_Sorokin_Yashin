{
 "cells": [
  {
   "cell_type": "code",
   "execution_count": 1,
   "outputs": [],
   "source": [
    "import  numpy as np"
   ],
   "metadata": {
    "collapsed": false,
    "ExecuteTime": {
     "start_time": "2024-10-28T23:47:04.284543Z",
     "end_time": "2024-10-28T23:47:04.448824Z"
    }
   }
  },
  {
   "cell_type": "markdown",
   "source": [
    "# Часть 1"
   ],
   "metadata": {
    "collapsed": false
   }
  },
  {
   "cell_type": "markdown",
   "source": [
    "## 2.1 Сформировать порождающую матрицу линейного кода (7, 4, 3)"
   ],
   "metadata": {
    "collapsed": false
   }
  },
  {
   "cell_type": "code",
   "execution_count": 2,
   "outputs": [
    {
     "name": "stdout",
     "output_type": "stream",
     "text": [
      "порождающая матрица линейного кода (7, 4, 3):\n",
      "[[1 0 0 0 1 1 0]\n",
      " [0 1 0 0 1 0 1]\n",
      " [0 0 1 0 0 1 1]\n",
      " [0 0 0 1 1 1 1]]\n"
     ]
    }
   ],
   "source": [
    "n, k, d = 7, 4, 3\n",
    "I_k = np.eye(k, dtype=int)\n",
    "X = np.array([\n",
    "        [1, 1, 0],\n",
    "        [1, 0, 1],\n",
    "        [0, 1, 1],\n",
    "        [1, 1, 1]\n",
    "    ])\n",
    "G = np.hstack((I_k,X))\n",
    "print(f'порождающая матрица линейного кода (7, 4, 3):\\n{G}')"
   ],
   "metadata": {
    "collapsed": false,
    "ExecuteTime": {
     "start_time": "2024-10-28T23:47:04.447198Z",
     "end_time": "2024-10-28T23:47:04.450844Z"
    }
   }
  },
  {
   "cell_type": "markdown",
   "source": [
    "## 2.2 Сформировать проверочную матрицу на основе порождающей"
   ],
   "metadata": {
    "collapsed": false
   }
  },
  {
   "cell_type": "code",
   "execution_count": 3,
   "metadata": {
    "collapsed": true,
    "ExecuteTime": {
     "start_time": "2024-10-28T23:47:04.450421Z",
     "end_time": "2024-10-28T23:47:04.454316Z"
    }
   },
   "outputs": [
    {
     "name": "stdout",
     "output_type": "stream",
     "text": [
      "Проверочная матрица H:\n",
      "[[1 1 0]\n",
      " [1 0 1]\n",
      " [0 1 1]\n",
      " [1 1 1]\n",
      " [1 0 0]\n",
      " [0 1 0]\n",
      " [0 0 1]]\n"
     ]
    }
   ],
   "source": [
    "I_n_k = np.eye(n - k, dtype=int)\n",
    "\n",
    "H = np.vstack((X, I_n_k))\n",
    "print(f'Проверочная матрица H:\\n{H}')"
   ]
  },
  {
   "cell_type": "markdown",
   "source": [
    "## 2.3 Сформировать таблицу синдромов для всех однократных ошибок"
   ],
   "metadata": {
    "collapsed": false
   }
  },
  {
   "cell_type": "code",
   "execution_count": 4,
   "outputs": [
    {
     "name": "stdout",
     "output_type": "stream",
     "text": [
      "Syndrome\tError vec\n",
      "(1, 1, 0)\t(1, 0, 0, 0, 0, 0, 0)\n",
      "(1, 0, 1)\t(0, 1, 0, 0, 0, 0, 0)\n",
      "(0, 1, 1)\t(0, 0, 1, 0, 0, 0, 0)\n",
      "(1, 1, 1)\t(0, 0, 0, 1, 0, 0, 0)\n",
      "(1, 0, 0)\t(0, 0, 0, 0, 1, 0, 0)\n",
      "(0, 1, 0)\t(0, 0, 0, 0, 0, 1, 0)\n",
      "(0, 0, 1)\t(0, 0, 0, 0, 0, 0, 1)\n"
     ]
    }
   ],
   "source": [
    "def calculate_syndrome(E, H):\n",
    "    \"\"\"\n",
    "    Вычисляет синдром для данного вектора ошибки и матрицы H.\n",
    "    \"\"\"\n",
    "    return tuple((E @ H) % 2)\n",
    "\n",
    "def build_syndrome_table(H):\n",
    "    \"\"\"\n",
    "    Строит таблицу синдромов для матрицы H.\n",
    "    \"\"\"\n",
    "    n = H.shape[0]\n",
    "    syndromes = {}\n",
    "    for i in range(n):\n",
    "        E = np.zeros(n, dtype=int)\n",
    "        E[i] = 1\n",
    "        S = calculate_syndrome(E, H)\n",
    "        syndromes[S] = tuple(E)\n",
    "    return syndromes\n",
    "s_t = build_syndrome_table(H)\n",
    "print(\"Syndrome\\tError vec\")\n",
    "for syndrome in s_t:\n",
    "    print(f\"{syndrome}\\t{s_t[syndrome]}\")"
   ],
   "metadata": {
    "collapsed": false,
    "ExecuteTime": {
     "start_time": "2024-10-28T23:47:04.455877Z",
     "end_time": "2024-10-28T23:47:04.459860Z"
    }
   }
  },
  {
   "cell_type": "markdown",
   "source": [
    "## 2.4 Сформировать кодовое слово длины n из слова длины k. Внести однократную ошибку в сформированное слово. Вычислить синдром, исправить ошибку с использованием таблицы синдромов. Убедиться в правильности полученного слова\n"
   ],
   "metadata": {
    "collapsed": false
   }
  },
  {
   "cell_type": "code",
   "execution_count": 5,
   "outputs": [],
   "source": [
    "def correct_errors(parity_check_matrix, received_word, syndromes):\n",
    "    \"\"\"Исправляет ошибки в принятом кодовом слове с помощью таблицы синдромов.\"\"\"\n",
    "    syndrome = tuple(np.dot(parity_check_matrix.T, received_word) % 2)\n",
    "    if syndrome in syndromes:\n",
    "        error_pattern = np.array(syndromes[syndrome], dtype=int)\n",
    "        fixed_word = (received_word + error_pattern) % 2\n",
    "        return fixed_word, error_pattern\n",
    "    for i in range(len(received_word)):\n",
    "        for j in range(i + 1, len(received_word)):  # Избегаем повторяющихся пар\n",
    "            # Генерируем шаблон ошибки для текущей пары индексов\n",
    "            error_pattern = np.zeros_like(received_word)\n",
    "            error_pattern[i] = 1\n",
    "            error_pattern[j] = 1\n",
    "\n",
    "            # Вычисляем новый синдром\n",
    "            new_received_word = (received_word + error_pattern) % 2\n",
    "            new_syndrome = tuple(np.dot(parity_check_matrix.T, new_received_word) % 2)\n",
    "\n",
    "            # Проверяем новый синдром\n",
    "            if new_syndrome in syndromes:\n",
    "                fixed_word = (received_word + error_pattern) % 2\n",
    "                return fixed_word, error_pattern\n",
    "    # Если ошибки не обнаружены, возвращаем исходное слово\n",
    "    return received_word, None"
   ],
   "metadata": {
    "collapsed": false,
    "ExecuteTime": {
     "start_time": "2024-10-28T23:47:04.460721Z",
     "end_time": "2024-10-28T23:47:04.464376Z"
    }
   }
  },
  {
   "cell_type": "code",
   "execution_count": 6,
   "outputs": [
    {
     "name": "stdout",
     "output_type": "stream",
     "text": [
      "Оригинальное сообщение: [1 0 0 1]\n",
      "Кодированное сообщение: [1 0 0 1 0 0 1]\n",
      "Сообщение с ошибкой в позиции 5: [1 0 0 1 0 1 1]\n",
      "Исправленное сообщение: [1 0 0 1 0 0 1]\n",
      "Обнаруженная ошибка: [0 0 0 0 0 1 0]\n",
      "Проверка на равенство отправленного слова и полученного: True\n"
     ]
    }
   ],
   "source": [
    "original_msg = np.random.randint(0, 2, size=k)\n",
    "print(f\"Оригинальное сообщение: {original_msg}\")\n",
    "\n",
    "encoded_word =  np.dot(original_msg, G) % 2\n",
    "print(f\"Кодированное сообщение: {encoded_word}\")\n",
    "# внесем однократную ошибку\n",
    "pos = np.random.randint(len(encoded_word))\n",
    "corrupted_word = np.array([bit ^ (i == pos) for i, bit in enumerate(encoded_word)])\n",
    "print(f\"Сообщение с ошибкой в позиции {pos}: {corrupted_word}\")\n",
    "\n",
    "corrected_word, detected_error = correct_errors(H, corrupted_word, s_t)\n",
    "print(f\"Исправленное сообщение: {corrected_word}\")\n",
    "if detected_error is not None:\n",
    "    print(f\"Обнаруженная ошибка: {detected_error}\")\n",
    "else:\n",
    "    print(\"Ошибки не обнаружено.\")\n",
    "print(f\"Проверка на равенство отправленного слова и полученного: {np.array_equal(original_msg, corrected_word[:k])}\")\n"
   ],
   "metadata": {
    "collapsed": false,
    "ExecuteTime": {
     "start_time": "2024-10-28T23:47:04.466863Z",
     "end_time": "2024-10-28T23:47:04.469579Z"
    }
   }
  },
  {
   "cell_type": "markdown",
   "source": [
    "## 2.5. Сформировать кодовое слово длины n из слова длины k. Внести двукратную ошибку в сформированное слово. Вычислить синдром, исправить ошибку с использованием таблицы синдромов. Убедиться, что полученное слово отличается от отправленного."
   ],
   "metadata": {
    "collapsed": false
   }
  },
  {
   "cell_type": "code",
   "execution_count": 7,
   "outputs": [
    {
     "name": "stdout",
     "output_type": "stream",
     "text": [
      "Оригинальное сообщение: [1 0 0 1]\n",
      "Кодированное сообщение: [1 0 0 1 0 0 1]\n",
      "Сообщение с ошибкой в позиции [2 4]: [1 0 1 1 1 0 1]\n",
      "Исправленное сообщение: [1 0 1 0 1 0 1]\n",
      "Обнаруженная ошибка: [0 0 0 1 0 0 0]\n",
      "Проверка на равенство отправленного слова и полученного: False\n"
     ]
    }
   ],
   "source": [
    "\n",
    "print(f\"Оригинальное сообщение: {original_msg}\")\n",
    "print(f\"Кодированное сообщение: {encoded_word}\")\n",
    "# внесем двукратную ошибку\n",
    "pos = np.random.choice(len(encoded_word), size=2, replace=False)\n",
    "corrupted_word = np.array([bit ^ (i in pos) for i, bit in enumerate(encoded_word)])\n",
    "print(f\"Сообщение с ошибкой в позиции {pos}: {corrupted_word}\")\n",
    "\n",
    "corrected_word, detected_error = correct_errors(H, corrupted_word, s_t)\n",
    "print(f\"Исправленное сообщение: {corrected_word}\")\n",
    "if detected_error is not None:\n",
    "    print(f\"Обнаруженная ошибка: {detected_error}\")\n",
    "else:\n",
    "    print(\"Ошибки не обнаружено.\")\n",
    "print(f\"Проверка на равенство отправленного слова и полученного: {np.array_equal(original_msg, corrected_word[:k])}\")"
   ],
   "metadata": {
    "collapsed": false,
    "ExecuteTime": {
     "start_time": "2024-10-28T23:47:04.468996Z",
     "end_time": "2024-10-28T23:47:04.560157Z"
    }
   }
  },
  {
   "cell_type": "markdown",
   "source": [
    "# Часть 2"
   ],
   "metadata": {
    "collapsed": false
   }
  },
  {
   "cell_type": "markdown",
   "source": [
    "## 2.6. Сформировать порождающую матрицу линейного кода (n, k, 5)."
   ],
   "metadata": {
    "collapsed": false
   }
  },
  {
   "cell_type": "code",
   "execution_count": 8,
   "outputs": [],
   "source": [
    "# Параметры кода\n",
    "n = 9   # длина кодового слова\n",
    "k = 4   # длина информационного слова\n",
    "n_k = n - k"
   ],
   "metadata": {
    "collapsed": false,
    "ExecuteTime": {
     "start_time": "2024-10-28T23:47:04.475016Z",
     "end_time": "2024-10-28T23:47:04.560834Z"
    }
   }
  },
  {
   "cell_type": "code",
   "execution_count": 9,
   "outputs": [],
   "source": [
    "# Примерная матрица P\n",
    "P = np.array([[1, 1, 1, 1, 0],\n",
    "              [1, 1, 0, 0, 1],\n",
    "              [1, 0, 1, 0, 1],\n",
    "              [0, 1, 1, 0, 1]])"
   ],
   "metadata": {
    "collapsed": false,
    "ExecuteTime": {
     "start_time": "2024-10-28T23:47:04.477828Z",
     "end_time": "2024-10-28T23:47:04.560948Z"
    }
   }
  },
  {
   "cell_type": "code",
   "execution_count": 10,
   "outputs": [
    {
     "name": "stdout",
     "output_type": "stream",
     "text": [
      "Порождающая матрица G:\n",
      " [[1 0 0 0 1 1 1 1 0]\n",
      " [0 1 0 0 1 1 0 0 1]\n",
      " [0 0 1 0 1 0 1 0 1]\n",
      " [0 0 0 1 0 1 1 0 1]]\n"
     ]
    }
   ],
   "source": [
    "I_k = np.eye(k, dtype=int)\n",
    "G = np.hstack((I_k, P))\n",
    "print(\"Порождающая матрица G:\\n\", G)"
   ],
   "metadata": {
    "collapsed": false,
    "ExecuteTime": {
     "start_time": "2024-10-28T23:47:04.480397Z",
     "end_time": "2024-10-28T23:47:04.561032Z"
    }
   }
  },
  {
   "cell_type": "markdown",
   "source": [
    "## 2.7 Сформировать проверочную матрицу на основе порождающей."
   ],
   "metadata": {
    "collapsed": false
   }
  },
  {
   "cell_type": "code",
   "execution_count": 11,
   "outputs": [
    {
     "name": "stdout",
     "output_type": "stream",
     "text": [
      "Проверочная матрица H:\n",
      " [[1 1 1 1 0]\n",
      " [1 1 0 0 1]\n",
      " [1 0 1 0 1]\n",
      " [0 1 1 0 1]\n",
      " [1 0 0 0 0]\n",
      " [0 1 0 0 0]\n",
      " [0 0 1 0 0]\n",
      " [0 0 0 1 0]\n",
      " [0 0 0 0 1]]\n"
     ]
    }
   ],
   "source": [
    "# Проверочная матрица H\n",
    "I_n_k = np.eye(n_k, dtype=int)\n",
    "H = np.vstack((P, I_n_k))\n",
    "print(\"Проверочная матрица H:\\n\", H)"
   ],
   "metadata": {
    "collapsed": false,
    "ExecuteTime": {
     "start_time": "2024-10-28T23:47:04.483274Z",
     "end_time": "2024-10-28T23:47:04.561113Z"
    }
   }
  },
  {
   "cell_type": "markdown",
   "source": [
    "## 2.8 Сформировать таблицу синдромов для всех однократных и двукратных ошибок."
   ],
   "metadata": {
    "collapsed": false
   }
  },
  {
   "cell_type": "code",
   "execution_count": 12,
   "outputs": [
    {
     "name": "stdout",
     "output_type": "stream",
     "text": [
      "Syndrome\t\tError vec\n",
      "(1, 1, 1, 1, 0)\t\t(1, 0, 0, 0, 0, 0, 0, 0, 0)\n",
      "(1, 1, 0, 0, 1)\t\t(0, 1, 0, 0, 0, 0, 0, 0, 0)\n",
      "(1, 0, 1, 0, 1)\t\t(0, 0, 1, 0, 0, 0, 0, 0, 0)\n",
      "(0, 1, 1, 0, 1)\t\t(0, 0, 0, 1, 0, 0, 0, 0, 0)\n",
      "(1, 0, 0, 0, 0)\t\t(0, 0, 0, 0, 1, 0, 0, 0, 0)\n",
      "(0, 1, 0, 0, 0)\t\t(0, 0, 0, 0, 0, 1, 0, 0, 0)\n",
      "(0, 0, 1, 0, 0)\t\t(0, 0, 0, 0, 0, 0, 1, 0, 0)\n",
      "(0, 0, 0, 1, 0)\t\t(0, 0, 0, 0, 0, 0, 0, 1, 0)\n",
      "(0, 0, 0, 0, 1)\t\t(0, 0, 0, 0, 0, 0, 0, 0, 1)\n",
      "(0, 0, 1, 1, 1)\t\t(1, 1, 0, 0, 0, 0, 0, 0, 0)\n",
      "(0, 1, 0, 1, 1)\t\t(1, 0, 1, 0, 0, 0, 0, 0, 0)\n",
      "(1, 0, 0, 1, 1)\t\t(1, 0, 0, 1, 0, 0, 0, 0, 0)\n",
      "(0, 1, 1, 1, 0)\t\t(1, 0, 0, 0, 1, 0, 0, 0, 0)\n",
      "(1, 0, 1, 1, 0)\t\t(1, 0, 0, 0, 0, 1, 0, 0, 0)\n",
      "(1, 1, 0, 1, 0)\t\t(1, 0, 0, 0, 0, 0, 1, 0, 0)\n",
      "(1, 1, 1, 0, 0)\t\t(1, 0, 0, 0, 0, 0, 0, 1, 0)\n",
      "(1, 1, 1, 1, 1)\t\t(1, 0, 0, 0, 0, 0, 0, 0, 1)\n",
      "(0, 1, 1, 0, 0)\t\t(0, 0, 0, 0, 0, 1, 1, 0, 0)\n",
      "(1, 0, 1, 0, 0)\t\t(0, 0, 0, 0, 1, 0, 1, 0, 0)\n",
      "(0, 1, 0, 0, 1)\t\t(0, 0, 0, 0, 0, 1, 0, 0, 1)\n",
      "(1, 0, 0, 0, 1)\t\t(0, 0, 0, 0, 1, 0, 0, 0, 1)\n",
      "(1, 1, 1, 0, 1)\t\t(0, 0, 0, 1, 1, 0, 0, 0, 0)\n",
      "(1, 1, 0, 1, 1)\t\t(0, 1, 0, 0, 0, 0, 0, 1, 0)\n",
      "(1, 1, 0, 0, 0)\t\t(0, 0, 0, 0, 1, 1, 0, 0, 0)\n",
      "(0, 0, 1, 0, 1)\t\t(0, 0, 0, 0, 0, 0, 1, 0, 1)\n",
      "(1, 0, 1, 1, 1)\t\t(0, 0, 1, 0, 0, 0, 0, 1, 0)\n",
      "(0, 1, 1, 1, 1)\t\t(0, 0, 0, 1, 0, 0, 0, 1, 0)\n",
      "(1, 0, 0, 1, 0)\t\t(0, 0, 0, 0, 1, 0, 0, 1, 0)\n",
      "(0, 1, 0, 1, 0)\t\t(0, 0, 0, 0, 0, 1, 0, 1, 0)\n",
      "(0, 0, 1, 1, 0)\t\t(0, 0, 0, 0, 0, 0, 1, 1, 0)\n",
      "(0, 0, 0, 1, 1)\t\t(0, 0, 0, 0, 0, 0, 0, 1, 1)\n"
     ]
    }
   ],
   "source": [
    "def build_syndrome_table(H):\n",
    "    n = H.shape[1]  # Количество столбцов (размер кодового слова)\n",
    "\n",
    "    syndromes = {}\n",
    "\n",
    "    # Однократные ошибки\n",
    "    for i in range(n):\n",
    "        E = np.zeros(n, dtype=int)\n",
    "        E[i] = 1\n",
    "        S = calculate_syndrome(E, H.T)\n",
    "        syndromes[S] = tuple(E)\n",
    "\n",
    "    # Двукратные ошибки\n",
    "    for i in range(n):\n",
    "        for j in range(i + 1, n):\n",
    "            E = np.zeros(n, dtype=int)\n",
    "            E[i] = 1\n",
    "            E[j] = 1\n",
    "            S = calculate_syndrome(E, H.T)\n",
    "            syndromes[S] = tuple(E)\n",
    "\n",
    "    return syndromes\n",
    "\n",
    "# Пример проверочной матрицы H (замените H на вашу матрицу\n",
    "s_t = build_syndrome_table(H.T)\n",
    "print(\"Syndrome\\t\\tError vec\")\n",
    "for syndrome in s_t:\n",
    "    print(f\"{syndrome}\\t\\t{s_t[syndrome]}\")\n"
   ],
   "metadata": {
    "collapsed": false,
    "ExecuteTime": {
     "start_time": "2024-10-28T23:47:04.487121Z",
     "end_time": "2024-10-28T23:47:04.561278Z"
    }
   }
  },
  {
   "cell_type": "markdown",
   "source": [
    "## 2.9. Сформировать кодовое слово длины n из слова длины k. Внести однократную ошибку в сформированное слово. Вычислить синдром, исправить ошибку с использованием таблицы синдромов. Убедиться в правильности полученного слова."
   ],
   "metadata": {
    "collapsed": false
   }
  },
  {
   "cell_type": "code",
   "execution_count": 13,
   "outputs": [
    {
     "name": "stdout",
     "output_type": "stream",
     "text": [
      "Оригинальное сообщение: [1 0 0 1]\n",
      "Кодированное сообщение: [1 0 0 1 1 0 0 1 1]\n",
      "Сообщение с ошибкой в позиции [2]: [1 0 1 1 1 0 0 1 1]\n",
      "Исправленное сообщение: [1 0 0 1 1 0 0 1 1]\n",
      "Обнаруженная ошибка: [0 0 1 0 0 0 0 0 0]\n",
      "Проверка на равенство отправленного слова и полученного: True\n"
     ]
    }
   ],
   "source": [
    "print(f\"Оригинальное сообщение: {original_msg}\")\n",
    "\n",
    "encoded_word =  np.dot(original_msg, G) % 2\n",
    "print(f\"Кодированное сообщение: {encoded_word}\")\n",
    "\n",
    "pos = np.random.choice(len(encoded_word), size=1, replace=False)\n",
    "corrupted_word = np.array([bit ^ (i in pos) for i, bit in enumerate(encoded_word)])\n",
    "print(f\"Сообщение с ошибкой в позиции {pos}: {corrupted_word}\")\n",
    "corrected_word, detected_error = correct_errors(H, corrupted_word, s_t)\n",
    "print(f\"Исправленное сообщение: {corrected_word}\")\n",
    "if detected_error is not None:\n",
    "    print(f\"Обнаруженная ошибка: {detected_error}\")\n",
    "else:\n",
    "    print(\"Ошибки не обнаружено.\")\n",
    "print(f\"Проверка на равенство отправленного слова и полученного: {np.array_equal(original_msg, corrected_word[:k])}\")"
   ],
   "metadata": {
    "collapsed": false,
    "ExecuteTime": {
     "start_time": "2024-10-28T23:47:04.490692Z",
     "end_time": "2024-10-28T23:47:04.561371Z"
    }
   }
  },
  {
   "cell_type": "markdown",
   "source": [
    "## 2.10. Сформировать кодовое слово длины n из слова длины k. Внести двукратную ошибку в сформированное слово. Вычислить синдром, исправить ошибку с использованием таблицы синдромов. Убедиться в правильности полученного слова."
   ],
   "metadata": {
    "collapsed": false
   }
  },
  {
   "cell_type": "code",
   "execution_count": 14,
   "outputs": [
    {
     "name": "stdout",
     "output_type": "stream",
     "text": [
      "Оригинальное сообщение: [1 0 0 1]\n",
      "Кодированное сообщение: [1 0 0 1 1 0 0 1 1]\n",
      "Сообщение с ошибкой в позиции [0 6]: [0 0 0 1 1 0 1 1 1]\n",
      "Исправленное сообщение: [1 0 0 1 1 0 0 1 1]\n",
      "Обнаруженная ошибка: [1 0 0 0 0 0 1 0 0]\n",
      "Проверка на равенство отправленного слова и полученного: True\n"
     ]
    }
   ],
   "source": [
    "print(f\"Оригинальное сообщение: {original_msg}\")\n",
    "\n",
    "encoded_word =  np.dot(original_msg, G) % 2\n",
    "print(f\"Кодированное сообщение: {encoded_word}\")\n",
    "pos = np.random.choice(len(encoded_word), size=2, replace=False)\n",
    "corrupted_word = np.array([bit ^ (i in pos) for i, bit in enumerate(encoded_word)])\n",
    "print(f\"Сообщение с ошибкой в позиции {pos}: {corrupted_word}\")\n",
    "corrected_word, detected_error = correct_errors(H, corrupted_word, s_t)\n",
    "print(f\"Исправленное сообщение: {corrected_word}\")\n",
    "if detected_error is not None:\n",
    "    print(f\"Обнаруженная ошибка: {detected_error}\")\n",
    "else:\n",
    "    print(\"Ошибки не обнаружено.\")\n",
    "print(f\"Проверка на равенство отправленного слова и полученного: {np.array_equal(original_msg, corrected_word[:k])}\")"
   ],
   "metadata": {
    "collapsed": false,
    "ExecuteTime": {
     "start_time": "2024-10-28T23:47:04.498157Z",
     "end_time": "2024-10-28T23:47:04.561495Z"
    }
   }
  },
  {
   "cell_type": "markdown",
   "source": [
    "## 2.11. Сформировать кодовое слово длины n из слова длины k. Внести трёхкратную ошибку в сформированное слово. Вычислить синдром, исправить ошибку с использованием таблицы синдромов. Убедиться, что полученное слово отличается от отправленного."
   ],
   "metadata": {
    "collapsed": false
   }
  },
  {
   "cell_type": "code",
   "execution_count": 15,
   "outputs": [
    {
     "name": "stdout",
     "output_type": "stream",
     "text": [
      "Оригинальное сообщение: [1 0 0 1]\n",
      "Кодированное сообщение: [1 0 0 1 1 0 0 1 1]\n",
      "Сообщение с ошибкой в позиции [2 1 8]: [1 1 1 1 1 0 0 1 0]\n",
      "Исправленное сообщение: [1 1 1 0 1 0 0 1 0]\n",
      "Обнаруженная ошибка: [0 0 0 1 0 0 0 0 0]\n",
      "Проверка на равенство отправленного слова и полученного: False\n"
     ]
    }
   ],
   "source": [
    "print(f\"Оригинальное сообщение: {original_msg}\")\n",
    "\n",
    "encoded_word =  np.dot(original_msg, G) % 2\n",
    "print(f\"Кодированное сообщение: {encoded_word}\")\n",
    "pos = np.random.choice(len(encoded_word), size=3, replace=False)\n",
    "corrupted_word = np.array([bit ^ (i in pos) for i, bit in enumerate(encoded_word)])\n",
    "print(f\"Сообщение с ошибкой в позиции {pos}: {corrupted_word}\")\n",
    "corrected_word, detected_error = correct_errors(H, corrupted_word, s_t)\n",
    "print(f\"Исправленное сообщение: {corrected_word}\")\n",
    "if detected_error is not None:\n",
    "    print(f\"Обнаруженная ошибка: {detected_error}\")\n",
    "else:\n",
    "    print(\"Ошибки не обнаружено.\")\n",
    "print(f\"Проверка на равенство отправленного слова и полученного: {np.array_equal(original_msg, corrected_word[:k])}\")"
   ],
   "metadata": {
    "collapsed": false,
    "ExecuteTime": {
     "start_time": "2024-10-28T23:47:04.506802Z",
     "end_time": "2024-10-28T23:47:04.561574Z"
    }
   }
  }
 ],
 "metadata": {
  "kernelspec": {
   "display_name": "Python 3",
   "language": "python",
   "name": "python3"
  },
  "language_info": {
   "codemirror_mode": {
    "name": "ipython",
    "version": 2
   },
   "file_extension": ".py",
   "mimetype": "text/x-python",
   "name": "python",
   "nbconvert_exporter": "python",
   "pygments_lexer": "ipython2",
   "version": "2.7.6"
  }
 },
 "nbformat": 4,
 "nbformat_minor": 0
}
